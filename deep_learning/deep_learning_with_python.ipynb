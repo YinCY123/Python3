{
 "cells": [
  {
   "cell_type": "markdown",
   "id": "eadae9ba-f43e-4387-8cc7-cde97312159c",
   "metadata": {},
   "source": [
    "## Classifying movie reviews: a binary classification example"
   ]
  },
  {
   "cell_type": "code",
   "execution_count": 23,
   "id": "8d009480-c877-418f-950e-be82b25e17d2",
   "metadata": {},
   "outputs": [
    {
     "name": "stdout",
     "output_type": "stream",
     "text": [
      "Downloading data from https://storage.googleapis.com/tensorflow/tf-keras-datasets/imdb.npz\n",
      "17464789/17464789 [==============================] - 8s 0us/step\n"
     ]
    }
   ],
   "source": [
    "# loading the IMDB dataset\n",
    "from keras.datasets import imdb\n",
    "\n",
    "(train_data, train_labels), (test_data, test_labels) = imdb.load_data(num_words = 10000)"
   ]
  },
  {
   "cell_type": "code",
   "execution_count": 36,
   "id": "55f80190-a768-43c1-bd82-11202f77be21",
   "metadata": {},
   "outputs": [
    {
     "data": {
      "text/plain": [
       "array([list([1, 14, 22, 16, 43, 530, 973, 1622, 1385, 65, 458, 4468, 66, 3941, 4, 173, 36, 256, 5, 25, 100, 43, 838, 112, 50, 670, 2, 9, 35, 480, 284, 5, 150, 4, 172, 112, 167, 2, 336, 385, 39, 4, 172, 4536, 1111, 17, 546, 38, 13, 447, 4, 192, 50, 16, 6, 147, 2025, 19, 14, 22, 4, 1920, 4613, 469, 4, 22, 71, 87, 12, 16, 43, 530, 38, 76, 15, 13, 1247, 4, 22, 17, 515, 17, 12, 16, 626, 18, 2, 5, 62, 386, 12, 8, 316, 8, 106, 5, 4, 2223, 5244, 16, 480, 66, 3785, 33, 4, 130, 12, 16, 38, 619, 5, 25, 124, 51, 36, 135, 48, 25, 1415, 33, 6, 22, 12, 215, 28, 77, 52, 5, 14, 407, 16, 82, 2, 8, 4, 107, 117, 5952, 15, 256, 4, 2, 7, 3766, 5, 723, 36, 71, 43, 530, 476, 26, 400, 317, 46, 7, 4, 2, 1029, 13, 104, 88, 4, 381, 15, 297, 98, 32, 2071, 56, 26, 141, 6, 194, 7486, 18, 4, 226, 22, 21, 134, 476, 26, 480, 5, 144, 30, 5535, 18, 51, 36, 28, 224, 92, 25, 104, 4, 226, 65, 16, 38, 1334, 88, 12, 16, 283, 5, 16, 4472, 113, 103, 32, 15, 16, 5345, 19, 178, 32])],\n",
       "      dtype=object)"
      ]
     },
     "execution_count": 36,
     "metadata": {},
     "output_type": "execute_result"
    }
   ],
   "source": [
    "train_data[0:1]"
   ]
  },
  {
   "cell_type": "code",
   "execution_count": 24,
   "id": "c02794a5-8b80-4b99-afde-416abc8a1073",
   "metadata": {},
   "outputs": [
    {
     "data": {
      "text/plain": [
       "\u001b[0;31mSignature:\u001b[0m\n",
       "\u001b[0mimdb\u001b[0m\u001b[0;34m.\u001b[0m\u001b[0mload_data\u001b[0m\u001b[0;34m(\u001b[0m\u001b[0;34m\u001b[0m\n",
       "\u001b[0;34m\u001b[0m    \u001b[0mpath\u001b[0m\u001b[0;34m=\u001b[0m\u001b[0;34m'imdb.npz'\u001b[0m\u001b[0;34m,\u001b[0m\u001b[0;34m\u001b[0m\n",
       "\u001b[0;34m\u001b[0m    \u001b[0mnum_words\u001b[0m\u001b[0;34m=\u001b[0m\u001b[0;32mNone\u001b[0m\u001b[0;34m,\u001b[0m\u001b[0;34m\u001b[0m\n",
       "\u001b[0;34m\u001b[0m    \u001b[0mskip_top\u001b[0m\u001b[0;34m=\u001b[0m\u001b[0;36m0\u001b[0m\u001b[0;34m,\u001b[0m\u001b[0;34m\u001b[0m\n",
       "\u001b[0;34m\u001b[0m    \u001b[0mmaxlen\u001b[0m\u001b[0;34m=\u001b[0m\u001b[0;32mNone\u001b[0m\u001b[0;34m,\u001b[0m\u001b[0;34m\u001b[0m\n",
       "\u001b[0;34m\u001b[0m    \u001b[0mseed\u001b[0m\u001b[0;34m=\u001b[0m\u001b[0;36m113\u001b[0m\u001b[0;34m,\u001b[0m\u001b[0;34m\u001b[0m\n",
       "\u001b[0;34m\u001b[0m    \u001b[0mstart_char\u001b[0m\u001b[0;34m=\u001b[0m\u001b[0;36m1\u001b[0m\u001b[0;34m,\u001b[0m\u001b[0;34m\u001b[0m\n",
       "\u001b[0;34m\u001b[0m    \u001b[0moov_char\u001b[0m\u001b[0;34m=\u001b[0m\u001b[0;36m2\u001b[0m\u001b[0;34m,\u001b[0m\u001b[0;34m\u001b[0m\n",
       "\u001b[0;34m\u001b[0m    \u001b[0mindex_from\u001b[0m\u001b[0;34m=\u001b[0m\u001b[0;36m3\u001b[0m\u001b[0;34m,\u001b[0m\u001b[0;34m\u001b[0m\n",
       "\u001b[0;34m\u001b[0m    \u001b[0;34m**\u001b[0m\u001b[0mkwargs\u001b[0m\u001b[0;34m,\u001b[0m\u001b[0;34m\u001b[0m\n",
       "\u001b[0;34m\u001b[0m\u001b[0;34m)\u001b[0m\u001b[0;34m\u001b[0m\u001b[0;34m\u001b[0m\u001b[0m\n",
       "\u001b[0;31mDocstring:\u001b[0m\n",
       "Loads the [IMDB dataset](https://ai.stanford.edu/~amaas/data/sentiment/).\n",
       "\n",
       "This is a dataset of 25,000 movies reviews from IMDB, labeled by sentiment\n",
       "(positive/negative). Reviews have been preprocessed, and each review is\n",
       "encoded as a list of word indexes (integers).\n",
       "For convenience, words are indexed by overall frequency in the dataset,\n",
       "so that for instance the integer \"3\" encodes the 3rd most frequent word in\n",
       "the data. This allows for quick filtering operations such as:\n",
       "\"only consider the top 10,000 most\n",
       "common words, but eliminate the top 20 most common words\".\n",
       "\n",
       "As a convention, \"0\" does not stand for a specific word, but instead is used\n",
       "to encode the pad token.\n",
       "\n",
       "Args:\n",
       "  path: where to cache the data (relative to `~/.keras/dataset`).\n",
       "  num_words: integer or None. Words are\n",
       "      ranked by how often they occur (in the training set) and only\n",
       "      the `num_words` most frequent words are kept. Any less frequent word\n",
       "      will appear as `oov_char` value in the sequence data. If None,\n",
       "      all words are kept. Defaults to `None`.\n",
       "  skip_top: skip the top N most frequently occurring words\n",
       "      (which may not be informative). These words will appear as\n",
       "      `oov_char` value in the dataset. When 0, no words are\n",
       "      skipped. Defaults to `0`.\n",
       "  maxlen: int or None. Maximum sequence length.\n",
       "      Any longer sequence will be truncated. None, means no truncation.\n",
       "      Defaults to `None`.\n",
       "  seed: int. Seed for reproducible data shuffling.\n",
       "  start_char: int. The start of a sequence will be marked with this\n",
       "      character. 0 is usually the padding character. Defaults to `1`.\n",
       "  oov_char: int. The out-of-vocabulary character.\n",
       "      Words that were cut out because of the `num_words` or\n",
       "      `skip_top` limits will be replaced with this character.\n",
       "  index_from: int. Index actual words with this index and higher.\n",
       "  **kwargs: Used for backwards compatibility.\n",
       "\n",
       "Returns:\n",
       "  Tuple of Numpy arrays: `(x_train, y_train), (x_test, y_test)`.\n",
       "\n",
       "**x_train, x_test**: lists of sequences, which are lists of indexes\n",
       "  (integers). If the num_words argument was specific, the maximum\n",
       "  possible index value is `num_words - 1`. If the `maxlen` argument was\n",
       "  specified, the largest possible sequence length is `maxlen`.\n",
       "\n",
       "**y_train, y_test**: lists of integer labels (1 or 0).\n",
       "\n",
       "Raises:\n",
       "  ValueError: in case `maxlen` is so low\n",
       "      that no input sequence could be kept.\n",
       "\n",
       "Note that the 'out of vocabulary' character is only used for\n",
       "words that were present in the training set but are not included\n",
       "because they're not making the `num_words` cut here.\n",
       "Words that were not seen in the training set but are in the test set\n",
       "have simply been skipped.\n",
       "\u001b[0;31mFile:\u001b[0m      ~/venvs/py3/lib/python3.10/site-packages/keras/src/datasets/imdb.py\n",
       "\u001b[0;31mType:\u001b[0m      function"
      ]
     },
     "metadata": {},
     "output_type": "display_data"
    }
   ],
   "source": [
    "imdb.load_data?"
   ]
  },
  {
   "cell_type": "code",
   "execution_count": null,
   "id": "a04ff9a4-f2d3-47c5-b678-30ee00a9cb29",
   "metadata": {},
   "outputs": [],
   "source": []
  },
  {
   "cell_type": "code",
   "execution_count": null,
   "id": "080a6ad0-aed9-437a-b374-49d6c739e02a",
   "metadata": {},
   "outputs": [],
   "source": []
  }
 ],
 "metadata": {
  "kernelspec": {
   "display_name": "Python 3 (ipykernel)",
   "language": "python",
   "name": "python3"
  },
  "language_info": {
   "codemirror_mode": {
    "name": "ipython",
    "version": 3
   },
   "file_extension": ".py",
   "mimetype": "text/x-python",
   "name": "python",
   "nbconvert_exporter": "python",
   "pygments_lexer": "ipython3",
   "version": "3.10.12"
  }
 },
 "nbformat": 4,
 "nbformat_minor": 5
}
