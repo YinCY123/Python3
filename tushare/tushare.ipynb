{
 "cells": [
  {
   "cell_type": "code",
   "execution_count": 10,
   "metadata": {},
   "outputs": [
    {
     "name": "stdout",
     "output_type": "stream",
     "text": [
      "1.2.62\n"
     ]
    }
   ],
   "source": [
    "import tushare as ts\n",
    "\n",
    "print(tushare.__version__)"
   ]
  },
  {
   "cell_type": "markdown",
   "metadata": {},
   "source": [
    "**token**  \n",
    "1b9973756b5427746d387bc9f590614342bdb31b00bf5ff9c02cc555"
   ]
  },
  {
   "cell_type": "code",
   "execution_count": 11,
   "metadata": {},
   "outputs": [],
   "source": [
    "ts.set_token('1b9973756b5427746d387bc9f590614342bdb31b00bf5ff9c02cc555')"
   ]
  },
  {
   "cell_type": "code",
   "execution_count": 12,
   "metadata": {},
   "outputs": [],
   "source": [
    "pro = ts.pro_api()"
   ]
  },
  {
   "cell_type": "code",
   "execution_count": 13,
   "metadata": {},
   "outputs": [],
   "source": [
    "df = pro.trade_cal(exhange = '', \n",
    "                   start_date = \"20180901\", \n",
    "                   end_date = '20201201', \n",
    "                   fields = 'exchange, cal_date, is_open, pretrade_date', \n",
    "                   is_open = '0')"
   ]
  },
  {
   "cell_type": "code",
   "execution_count": 14,
   "metadata": {},
   "outputs": [
    {
     "data": {
      "text/html": [
       "<div>\n",
       "<style scoped>\n",
       "    .dataframe tbody tr th:only-of-type {\n",
       "        vertical-align: middle;\n",
       "    }\n",
       "\n",
       "    .dataframe tbody tr th {\n",
       "        vertical-align: top;\n",
       "    }\n",
       "\n",
       "    .dataframe thead th {\n",
       "        text-align: right;\n",
       "    }\n",
       "</style>\n",
       "<table border=\"1\" class=\"dataframe\">\n",
       "  <thead>\n",
       "    <tr style=\"text-align: right;\">\n",
       "      <th></th>\n",
       "      <th>exchange</th>\n",
       "      <th>cal_date</th>\n",
       "      <th>is_open</th>\n",
       "      <th>pretrade_date</th>\n",
       "    </tr>\n",
       "  </thead>\n",
       "  <tbody>\n",
       "    <tr>\n",
       "      <th>0</th>\n",
       "      <td>SSE</td>\n",
       "      <td>20180901</td>\n",
       "      <td>0</td>\n",
       "      <td>20180831</td>\n",
       "    </tr>\n",
       "    <tr>\n",
       "      <th>1</th>\n",
       "      <td>SSE</td>\n",
       "      <td>20180902</td>\n",
       "      <td>0</td>\n",
       "      <td>20180831</td>\n",
       "    </tr>\n",
       "    <tr>\n",
       "      <th>2</th>\n",
       "      <td>SSE</td>\n",
       "      <td>20180908</td>\n",
       "      <td>0</td>\n",
       "      <td>20180907</td>\n",
       "    </tr>\n",
       "    <tr>\n",
       "      <th>3</th>\n",
       "      <td>SSE</td>\n",
       "      <td>20180909</td>\n",
       "      <td>0</td>\n",
       "      <td>20180907</td>\n",
       "    </tr>\n",
       "    <tr>\n",
       "      <th>4</th>\n",
       "      <td>SSE</td>\n",
       "      <td>20180915</td>\n",
       "      <td>0</td>\n",
       "      <td>20180914</td>\n",
       "    </tr>\n",
       "    <tr>\n",
       "      <th>...</th>\n",
       "      <td>...</td>\n",
       "      <td>...</td>\n",
       "      <td>...</td>\n",
       "      <td>...</td>\n",
       "    </tr>\n",
       "    <tr>\n",
       "      <th>274</th>\n",
       "      <td>SSE</td>\n",
       "      <td>20201115</td>\n",
       "      <td>0</td>\n",
       "      <td>20201113</td>\n",
       "    </tr>\n",
       "    <tr>\n",
       "      <th>275</th>\n",
       "      <td>SSE</td>\n",
       "      <td>20201121</td>\n",
       "      <td>0</td>\n",
       "      <td>20201120</td>\n",
       "    </tr>\n",
       "    <tr>\n",
       "      <th>276</th>\n",
       "      <td>SSE</td>\n",
       "      <td>20201122</td>\n",
       "      <td>0</td>\n",
       "      <td>20201120</td>\n",
       "    </tr>\n",
       "    <tr>\n",
       "      <th>277</th>\n",
       "      <td>SSE</td>\n",
       "      <td>20201128</td>\n",
       "      <td>0</td>\n",
       "      <td>20201127</td>\n",
       "    </tr>\n",
       "    <tr>\n",
       "      <th>278</th>\n",
       "      <td>SSE</td>\n",
       "      <td>20201129</td>\n",
       "      <td>0</td>\n",
       "      <td>20201127</td>\n",
       "    </tr>\n",
       "  </tbody>\n",
       "</table>\n",
       "<p>279 rows × 4 columns</p>\n",
       "</div>"
      ],
      "text/plain": [
       "    exchange  cal_date  is_open pretrade_date\n",
       "0        SSE  20180901        0      20180831\n",
       "1        SSE  20180902        0      20180831\n",
       "2        SSE  20180908        0      20180907\n",
       "3        SSE  20180909        0      20180907\n",
       "4        SSE  20180915        0      20180914\n",
       "..       ...       ...      ...           ...\n",
       "274      SSE  20201115        0      20201113\n",
       "275      SSE  20201121        0      20201120\n",
       "276      SSE  20201122        0      20201120\n",
       "277      SSE  20201128        0      20201127\n",
       "278      SSE  20201129        0      20201127\n",
       "\n",
       "[279 rows x 4 columns]"
      ]
     },
     "execution_count": 14,
     "metadata": {},
     "output_type": "execute_result"
    }
   ],
   "source": [
    "df"
   ]
  },
  {
   "cell_type": "code",
   "execution_count": null,
   "metadata": {},
   "outputs": [],
   "source": []
  }
 ],
 "metadata": {
  "kernelspec": {
   "display_name": "Python 3",
   "language": "python",
   "name": "python3"
  },
  "language_info": {
   "codemirror_mode": {
    "name": "ipython",
    "version": 3
   },
   "file_extension": ".py",
   "mimetype": "text/x-python",
   "name": "python",
   "nbconvert_exporter": "python",
   "pygments_lexer": "ipython3",
   "version": "3.8.5"
  }
 },
 "nbformat": 4,
 "nbformat_minor": 4
}
